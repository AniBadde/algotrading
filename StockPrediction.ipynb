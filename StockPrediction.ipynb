{
  "nbformat": 4,
  "nbformat_minor": 0,
  "metadata": {
    "colab": {
      "name": "StockPrediction.ipynb",
      "provenance": []
    },
    "kernelspec": {
      "name": "python3",
      "display_name": "Python 3"
    },
    "accelerator": "GPU"
  },
  "cells": [
    {
      "cell_type": "code",
      "metadata": {
        "id": "9uAGIoW8wgBV",
        "colab_type": "code",
        "colab": {}
      },
      "source": [
        "import os\n",
        "import tensorflow as tf"
      ],
      "execution_count": 8,
      "outputs": []
    },
    {
      "cell_type": "code",
      "metadata": {
        "id": "e81VyrGExBA_",
        "colab_type": "code",
        "colab": {
          "base_uri": "https://localhost:8080/",
          "height": 34
        },
        "outputId": "53318365-a885-4b55-845e-d09ac0a7e31c"
      },
      "source": [
        "import pandas as pd\n",
        "import numpy as np\n",
        "\n",
        "import sklearn.model_selection\n",
        "from keras.layers.core import Dense, Activation, Dropout\n",
        "from keras.models import Sequential\n",
        "from keras.layers.recurrent import LSTM\n",
        "from sklearn.model_selection import train_test_split\n",
        "from sklearn.preprocessing import MinMaxScaler\n",
        "import time\n",
        "import matplotlib.pyplot as plt\n",
        "from numpy import newaxis\n",
        "\n"
      ],
      "execution_count": 9,
      "outputs": [
        {
          "output_type": "stream",
          "text": [
            "Using TensorFlow backend.\n"
          ],
          "name": "stderr"
        }
      ]
    },
    {
      "cell_type": "code",
      "metadata": {
        "id": "IltO_XxiyHGJ",
        "colab_type": "code",
        "colab": {
          "base_uri": "https://localhost:8080/",
          "height": 122
        },
        "outputId": "341b3baf-5572-45cc-8826-ff4ad94f3e35"
      },
      "source": [
        "from google.colab import drive\n",
        "drive.mount('/content/drive')\n"
      ],
      "execution_count": 10,
      "outputs": [
        {
          "output_type": "stream",
          "text": [
            "Go to this URL in a browser: https://accounts.google.com/o/oauth2/auth?client_id=947318989803-6bn6qk8qdgf4n4g3pfee6491hc0brc4i.apps.googleusercontent.com&redirect_uri=urn%3aietf%3awg%3aoauth%3a2.0%3aoob&response_type=code&scope=email%20https%3a%2f%2fwww.googleapis.com%2fauth%2fdocs.test%20https%3a%2f%2fwww.googleapis.com%2fauth%2fdrive%20https%3a%2f%2fwww.googleapis.com%2fauth%2fdrive.photos.readonly%20https%3a%2f%2fwww.googleapis.com%2fauth%2fpeopleapi.readonly\n",
            "\n",
            "Enter your authorization code:\n",
            "··········\n",
            "Mounted at /content/drive\n"
          ],
          "name": "stdout"
        }
      ]
    },
    {
      "cell_type": "code",
      "metadata": {
        "id": "_CaNwtt2I4U8",
        "colab_type": "code",
        "colab": {
          "base_uri": "https://localhost:8080/",
          "height": 34
        },
        "outputId": "be9b60a0-9c95-4da2-80a5-328ae00af095"
      },
      "source": [
        "!ls \"/content/drive/My Drive/ML Projects/stock_prediction\"\n",
        "fundamentals = pd.read_csv(\"/content/drive/My Drive/ML Projects/stock_prediction/fundamentals.csv\")\n",
        "prices = pd.read_csv(\"/content/drive/My Drive/ML Projects/stock_prediction/prices.csv\")\n",
        "prices_split = pd.read_csv(\"/content/drive/My Drive/ML Projects/stock_prediction/prices-split-adjusted.csv\")"
      ],
      "execution_count": 40,
      "outputs": [
        {
          "output_type": "stream",
          "text": [
            "fundamentals.csv  prices.csv  prices-split-adjusted.csv  securities.csv\n"
          ],
          "name": "stdout"
        }
      ]
    },
    {
      "cell_type": "code",
      "metadata": {
        "id": "NFojqMvkKleT",
        "colab_type": "code",
        "colab": {
          "base_uri": "https://localhost:8080/",
          "height": 419
        },
        "outputId": "3421a7a2-aa71-412b-e180-2141d35c5629"
      },
      "source": [
        "apple = prices_split[prices_split['symbol']=='AAPL']\n",
        "apple_stock_prices = apple.close.values.astype('float32')\n",
        "apple_stock_prices = apple_stock_prices.reshape(1762, 1)\n",
        "apple_stock_prices.shape\n",
        "apple"
      ],
      "execution_count": 161,
      "outputs": [
        {
          "output_type": "execute_result",
          "data": {
            "text/html": [
              "<div>\n",
              "<style scoped>\n",
              "    .dataframe tbody tr th:only-of-type {\n",
              "        vertical-align: middle;\n",
              "    }\n",
              "\n",
              "    .dataframe tbody tr th {\n",
              "        vertical-align: top;\n",
              "    }\n",
              "\n",
              "    .dataframe thead th {\n",
              "        text-align: right;\n",
              "    }\n",
              "</style>\n",
              "<table border=\"1\" class=\"dataframe\">\n",
              "  <thead>\n",
              "    <tr style=\"text-align: right;\">\n",
              "      <th></th>\n",
              "      <th>date</th>\n",
              "      <th>symbol</th>\n",
              "      <th>open</th>\n",
              "      <th>close</th>\n",
              "      <th>low</th>\n",
              "      <th>high</th>\n",
              "      <th>volume</th>\n",
              "    </tr>\n",
              "  </thead>\n",
              "  <tbody>\n",
              "    <tr>\n",
              "      <th>254</th>\n",
              "      <td>2010-01-04</td>\n",
              "      <td>AAPL</td>\n",
              "      <td>30.490000</td>\n",
              "      <td>30.572857</td>\n",
              "      <td>30.340000</td>\n",
              "      <td>30.642857</td>\n",
              "      <td>123432400.0</td>\n",
              "    </tr>\n",
              "    <tr>\n",
              "      <th>721</th>\n",
              "      <td>2010-01-05</td>\n",
              "      <td>AAPL</td>\n",
              "      <td>30.657143</td>\n",
              "      <td>30.625713</td>\n",
              "      <td>30.464285</td>\n",
              "      <td>30.798571</td>\n",
              "      <td>150476200.0</td>\n",
              "    </tr>\n",
              "    <tr>\n",
              "      <th>1189</th>\n",
              "      <td>2010-01-06</td>\n",
              "      <td>AAPL</td>\n",
              "      <td>30.625713</td>\n",
              "      <td>30.138571</td>\n",
              "      <td>30.107143</td>\n",
              "      <td>30.747143</td>\n",
              "      <td>138040000.0</td>\n",
              "    </tr>\n",
              "    <tr>\n",
              "      <th>1657</th>\n",
              "      <td>2010-01-07</td>\n",
              "      <td>AAPL</td>\n",
              "      <td>30.250000</td>\n",
              "      <td>30.082857</td>\n",
              "      <td>29.864286</td>\n",
              "      <td>30.285715</td>\n",
              "      <td>119282800.0</td>\n",
              "    </tr>\n",
              "    <tr>\n",
              "      <th>2125</th>\n",
              "      <td>2010-01-08</td>\n",
              "      <td>AAPL</td>\n",
              "      <td>30.042856</td>\n",
              "      <td>30.282858</td>\n",
              "      <td>29.865715</td>\n",
              "      <td>30.285715</td>\n",
              "      <td>111902700.0</td>\n",
              "    </tr>\n",
              "    <tr>\n",
              "      <th>...</th>\n",
              "      <td>...</td>\n",
              "      <td>...</td>\n",
              "      <td>...</td>\n",
              "      <td>...</td>\n",
              "      <td>...</td>\n",
              "      <td>...</td>\n",
              "      <td>...</td>\n",
              "    </tr>\n",
              "    <tr>\n",
              "      <th>848767</th>\n",
              "      <td>2016-12-23</td>\n",
              "      <td>AAPL</td>\n",
              "      <td>115.589996</td>\n",
              "      <td>116.519997</td>\n",
              "      <td>115.589996</td>\n",
              "      <td>116.519997</td>\n",
              "      <td>14249500.0</td>\n",
              "    </tr>\n",
              "    <tr>\n",
              "      <th>849267</th>\n",
              "      <td>2016-12-27</td>\n",
              "      <td>AAPL</td>\n",
              "      <td>116.519997</td>\n",
              "      <td>117.260002</td>\n",
              "      <td>116.489998</td>\n",
              "      <td>117.800003</td>\n",
              "      <td>18296900.0</td>\n",
              "    </tr>\n",
              "    <tr>\n",
              "      <th>849767</th>\n",
              "      <td>2016-12-28</td>\n",
              "      <td>AAPL</td>\n",
              "      <td>117.519997</td>\n",
              "      <td>116.760002</td>\n",
              "      <td>116.199997</td>\n",
              "      <td>118.019997</td>\n",
              "      <td>20905900.0</td>\n",
              "    </tr>\n",
              "    <tr>\n",
              "      <th>850267</th>\n",
              "      <td>2016-12-29</td>\n",
              "      <td>AAPL</td>\n",
              "      <td>116.449997</td>\n",
              "      <td>116.730003</td>\n",
              "      <td>116.400002</td>\n",
              "      <td>117.110001</td>\n",
              "      <td>15039500.0</td>\n",
              "    </tr>\n",
              "    <tr>\n",
              "      <th>850767</th>\n",
              "      <td>2016-12-30</td>\n",
              "      <td>AAPL</td>\n",
              "      <td>116.650002</td>\n",
              "      <td>115.820000</td>\n",
              "      <td>115.430000</td>\n",
              "      <td>117.199997</td>\n",
              "      <td>30586300.0</td>\n",
              "    </tr>\n",
              "  </tbody>\n",
              "</table>\n",
              "<p>1762 rows × 7 columns</p>\n",
              "</div>"
            ],
            "text/plain": [
              "              date symbol        open  ...         low        high       volume\n",
              "254     2010-01-04   AAPL   30.490000  ...   30.340000   30.642857  123432400.0\n",
              "721     2010-01-05   AAPL   30.657143  ...   30.464285   30.798571  150476200.0\n",
              "1189    2010-01-06   AAPL   30.625713  ...   30.107143   30.747143  138040000.0\n",
              "1657    2010-01-07   AAPL   30.250000  ...   29.864286   30.285715  119282800.0\n",
              "2125    2010-01-08   AAPL   30.042856  ...   29.865715   30.285715  111902700.0\n",
              "...            ...    ...         ...  ...         ...         ...          ...\n",
              "848767  2016-12-23   AAPL  115.589996  ...  115.589996  116.519997   14249500.0\n",
              "849267  2016-12-27   AAPL  116.519997  ...  116.489998  117.800003   18296900.0\n",
              "849767  2016-12-28   AAPL  117.519997  ...  116.199997  118.019997   20905900.0\n",
              "850267  2016-12-29   AAPL  116.449997  ...  116.400002  117.110001   15039500.0\n",
              "850767  2016-12-30   AAPL  116.650002  ...  115.430000  117.199997   30586300.0\n",
              "\n",
              "[1762 rows x 7 columns]"
            ]
          },
          "metadata": {
            "tags": []
          },
          "execution_count": 161
        }
      ]
    },
    {
      "cell_type": "code",
      "metadata": {
        "id": "XhiRjy1WP9Ra",
        "colab_type": "code",
        "colab": {
          "base_uri": "https://localhost:8080/",
          "height": 265
        },
        "outputId": "90acbef1-78fe-41ea-bf41-2dd4af0d3dc4"
      },
      "source": [
        "plt.plot(apple_stock_prices)\n",
        "plt.show()\n",
        "scaler = MinMaxScaler(feature_range=(0, 1))\n",
        "apple_stock_prices1 = scaler.fit_transform(apple_stock_prices)"
      ],
      "execution_count": 162,
      "outputs": [
        {
          "output_type": "display_data",
          "data": {
            "image/png": "[encoded data removed]",
            "text/plain": [
              "<Figure size 432x288 with 1 Axes>"
            ]
          },
          "metadata": {
            "tags": [],
            "needs_background": "light"
          }
        }
      ]
    },
    {
      "cell_type": "code",
      "metadata": {
        "id": "P3-cDdoyRhBS",
        "colab_type": "code",
        "colab": {
          "base_uri": "https://localhost:8080/",
          "height": 34
        },
        "outputId": "15b57eae-d19d-4f08-ba49-a11e09bb511b"
      },
      "source": [
        "train_size = int(len(apple_stock_prices1) * 0.80)\n",
        "test_size = len(apple_stock_prices1) - train_size\n",
        "train, test = apple_stock_prices1[0:train_size,:], apple_stock_prices1[train_size:len(apple_stock_prices1),:]\n",
        "print(len(train), len(test))"
      ],
      "execution_count": 163,
      "outputs": [
        {
          "output_type": "stream",
          "text": [
            "1409 353\n"
          ],
          "name": "stdout"
        }
      ]
    },
    {
      "cell_type": "code",
      "metadata": {
        "id": "DbCHGDtcXDqZ",
        "colab_type": "code",
        "colab": {}
      },
      "source": [
        "def create_dataset(dataset, look_back=1):\n",
        "\tdataX, dataY = [], []\n",
        "\tfor i in range(len(dataset)-look_back-1):\n",
        "\t\ta = dataset[i:(i+look_back), 0]\n",
        "\t\tdataX.append(a)\n",
        "\t\tdataY.append(dataset[i + look_back, 0])\n",
        "\treturn np.array(dataX), np.array(dataY)"
      ],
      "execution_count": 164,
      "outputs": []
    },
    {
      "cell_type": "code",
      "metadata": {
        "id": "SYaNVE5OXIgp",
        "colab_type": "code",
        "colab": {
          "base_uri": "https://localhost:8080/",
          "height": 34
        },
        "outputId": "31634623-f3d8-4eec-da63-97666f8b5421"
      },
      "source": [
        "# reshape into X=t and Y=t+1\n",
        "look_back = 60\n",
        "trainX, trainY = create_dataset(train, look_back)\n",
        "testX, testY = create_dataset(test, look_back)\n",
        "trainX.shape"
      ],
      "execution_count": 165,
      "outputs": [
        {
          "output_type": "execute_result",
          "data": {
            "text/plain": [
              "(1348, 60)"
            ]
          },
          "metadata": {
            "tags": []
          },
          "execution_count": 165
        }
      ]
    },
    {
      "cell_type": "code",
      "metadata": {
        "id": "-Ly0XUq4XM2T",
        "colab_type": "code",
        "colab": {
          "base_uri": "https://localhost:8080/",
          "height": 34
        },
        "outputId": "0b6cb856-962f-4263-8f5f-2fde0e05e52f"
      },
      "source": [
        "trainX = np.reshape(trainX, (trainX.shape[0], trainX.shape[1], 1))\n",
        "testX = np.reshape(testX, (testX.shape[0], testX.shape[1], 1))\n",
        "\n",
        "trainX.shape\n",
        "\n",
        "testX.shape"
      ],
      "execution_count": 166,
      "outputs": [
        {
          "output_type": "execute_result",
          "data": {
            "text/plain": [
              "(292, 60, 1)"
            ]
          },
          "metadata": {
            "tags": []
          },
          "execution_count": 166
        }
      ]
    },
    {
      "cell_type": "code",
      "metadata": {
        "id": "abfssw-wW_SK",
        "colab_type": "code",
        "colab": {
          "base_uri": "https://localhost:8080/",
          "height": 34
        },
        "outputId": "688bc67d-ab9f-4912-8cb0-4938e019ec6e"
      },
      "source": [
        "os.environ[\"CUDA_VISIBLE_DEVICES\"] = \"0\"\n",
        "gpus = tf.config.list_physical_devices(\"GPU\")\n",
        "print(gpus)\n",
        "if len(gpus) == 1 : \n",
        "    strategy = tf.distribute.OneDeviceStrategy(device = \"/gpu:0\")\n",
        "else:\n",
        "    strategy = tf.distribute.MirroredStrategy()"
      ],
      "execution_count": 167,
      "outputs": [
        {
          "output_type": "stream",
          "text": [
            "[PhysicalDevice(name='/physical_device:GPU:0', device_type='GPU')]\n"
          ],
          "name": "stdout"
        }
      ]
    },
    {
      "cell_type": "code",
      "metadata": {
        "id": "uOBMQmb-XQz1",
        "colab_type": "code",
        "colab": {
          "base_uri": "https://localhost:8080/",
          "height": 34
        },
        "outputId": "b0f76ce3-9c42-4d81-927e-5f56a94b3d76"
      },
      "source": [
        "tf.config.optimizer.set_experimental_options({\"auto_mixed_precision\" : True})\n",
        "print(\"Mixed precision enabled\")"
      ],
      "execution_count": 168,
      "outputs": [
        {
          "output_type": "stream",
          "text": [
            "Mixed precision enabled\n"
          ],
          "name": "stdout"
        }
      ]
    },
    {
      "cell_type": "code",
      "metadata": {
        "id": "e7mIh6_3XdGP",
        "colab_type": "code",
        "colab": {}
      },
      "source": [
        "reduce_lr = tf.keras.callbacks.ReduceLROnPlateau(monitor= \"loss\", factor = 0.5, patience = 10,\n",
        "                                                 min_lr = 0.000001, verbose = 1)\n",
        "monitor_es = tf.keras.callbacks.EarlyStopping(monitor= \"loss\", patience = 25, restore_best_weights= False, verbose = True)"
      ],
      "execution_count": 169,
      "outputs": []
    },
    {
      "cell_type": "code",
      "metadata": {
        "id": "vbsiUkssXhnY",
        "colab_type": "code",
        "colab": {}
      },
      "source": [
        "model = tf.keras.Sequential()\n",
        "model.add(tf.keras.layers.LSTM(units = 12, return_sequences = True, input_shape = (trainX.shape[1], 1)))\n",
        "model.add(tf.keras.layers.Dropout(0.2))\n",
        "model.add(tf.keras.layers.LSTM(units = 12, return_sequences = True))\n",
        "model.add(tf.keras.layers.Dropout(0.4))\n",
        "model.add(tf.keras.layers.LSTM(units = 12, return_sequences = False))\n",
        "model.add(tf.keras.layers.Dropout(0.4))\n",
        "model.add(tf.keras.layers.Dense(units = 10, activation = \"relu\"))\n",
        "model.add(tf.keras.layers.Dense(units = 1, activation = \"relu\"))"
      ],
      "execution_count": 170,
      "outputs": []
    },
    {
      "cell_type": "code",
      "metadata": {
        "id": "maQ89rCgX0tM",
        "colab_type": "code",
        "colab": {
          "base_uri": "https://localhost:8080/",
          "height": 425
        },
        "outputId": "1c8ecd19-1eac-4def-a7a3-aa5c2282fab9"
      },
      "source": [
        "model.compile(tf.keras.optimizers.Adam(lr = 0.001), loss = \"mean_squared_error\")\n",
        "\n",
        "model.summary()"
      ],
      "execution_count": 171,
      "outputs": [
        {
          "output_type": "stream",
          "text": [
            "Model: \"sequential_15\"\n",
            "_________________________________________________________________\n",
            "Layer (type)                 Output Shape              Param #   \n",
            "=================================================================\n",
            "lstm_27 (LSTM)               (None, 60, 12)            672       \n",
            "_________________________________________________________________\n",
            "dropout_27 (Dropout)         (None, 60, 12)            0         \n",
            "_________________________________________________________________\n",
            "lstm_28 (LSTM)               (None, 60, 12)            1200      \n",
            "_________________________________________________________________\n",
            "dropout_28 (Dropout)         (None, 60, 12)            0         \n",
            "_________________________________________________________________\n",
            "lstm_29 (LSTM)               (None, 12)                1200      \n",
            "_________________________________________________________________\n",
            "dropout_29 (Dropout)         (None, 12)                0         \n",
            "_________________________________________________________________\n",
            "dense_26 (Dense)             (None, 10)                130       \n",
            "_________________________________________________________________\n",
            "dense_27 (Dense)             (None, 1)                 11        \n",
            "=================================================================\n",
            "Total params: 3,213\n",
            "Trainable params: 3,213\n",
            "Non-trainable params: 0\n",
            "_________________________________________________________________\n"
          ],
          "name": "stdout"
        }
      ]
    },
    {
      "cell_type": "code",
      "metadata": {
        "id": "0dKaMkEeX43f",
        "colab_type": "code",
        "colab": {
          "base_uri": "https://localhost:8080/",
          "height": 357
        },
        "outputId": "7e002e95-f48a-4495-add3-fcd7c6ced010"
      },
      "source": [
        "with tf.device(\"/device:GPU:0\"):\n",
        "    history = model.fit(trainX, trainY, epochs = 10, batch_size = 16, callbacks = [reduce_lr, monitor_es])"
      ],
      "execution_count": 172,
      "outputs": [
        {
          "output_type": "stream",
          "text": [
            "Epoch 1/10\n",
            "85/85 [==============================] - 1s 10ms/step - loss: 0.0875 - lr: 0.0010\n",
            "Epoch 2/10\n",
            "85/85 [==============================] - 1s 10ms/step - loss: 0.0182 - lr: 0.0010\n",
            "Epoch 3/10\n",
            "85/85 [==============================] - 1s 11ms/step - loss: 0.0131 - lr: 0.0010\n",
            "Epoch 4/10\n",
            "85/85 [==============================] - 1s 10ms/step - loss: 0.0123 - lr: 0.0010\n",
            "Epoch 5/10\n",
            "85/85 [==============================] - 1s 9ms/step - loss: 0.0088 - lr: 0.0010\n",
            "Epoch 6/10\n",
            "85/85 [==============================] - 1s 10ms/step - loss: 0.0080 - lr: 0.0010\n",
            "Epoch 7/10\n",
            "85/85 [==============================] - 1s 9ms/step - loss: 0.0074 - lr: 0.0010\n",
            "Epoch 8/10\n",
            "85/85 [==============================] - 1s 11ms/step - loss: 0.0062 - lr: 0.0010\n",
            "Epoch 9/10\n",
            "85/85 [==============================] - 1s 10ms/step - loss: 0.0060 - lr: 0.0010\n",
            "Epoch 10/10\n",
            "85/85 [==============================] - 1s 11ms/step - loss: 0.0052 - lr: 0.0010\n"
          ],
          "name": "stdout"
        }
      ]
    },
    {
      "cell_type": "code",
      "metadata": {
        "id": "J7Mc8p9qY02f",
        "colab_type": "code",
        "colab": {
          "base_uri": "https://localhost:8080/",
          "height": 307
        },
        "outputId": "d04ff0d5-341a-4a8d-d68d-f5ba06cfc8b8"
      },
      "source": [
        "plt.figure(figsize = (12, 4))\n",
        "plt.plot(history.history[\"loss\"], label = \"Training loss\")\n",
        "plt.title(\"Loss analysis\", fontsize = 18)\n",
        "plt.xlabel(\"Epoch\", fontsize = 18)\n",
        "plt.ylabel(\"Loss\", fontsize = 18)\n",
        "plt.legend([\"Train\"])\n",
        "plt.grid(\"both\")"
      ],
      "execution_count": 173,
      "outputs": [
        {
          "output_type": "display_data",
          "data": {
            "image/png": "[encoded data removed]",
            "text/plain": [
              "<Figure size 864x288 with 1 Axes>"
            ]
          },
          "metadata": {
            "tags": [],
            "needs_background": "light"
          }
        }
      ]
    },
    {
      "cell_type": "code",
      "metadata": {
        "id": "qYOlRsDxZEgs",
        "colab_type": "code",
        "colab": {
          "base_uri": "https://localhost:8080/",
          "height": 1000
        },
        "outputId": "fb49afa9-ab93-4300-b913-ffb1525d3762"
      },
      "source": [
        "predicted = model.predict(testX)\n",
        "predicted = scaler.inverse_transform(predicted)\n",
        "print(predicted)\n",
        "\n",
        "#trainX.shape\n",
        "#testX.shape\n",
        "\n",
        "apple_stock_prices1 = scaler.inverse_transform(apple_stock_prices1)\n"
      ],
      "execution_count": 176,
      "outputs": [
        {
          "output_type": "stream",
          "text": [
            "[[105.85477 ]\n",
            " [106.21328 ]\n",
            " [106.60633 ]\n",
            " [107.01995 ]\n",
            " [107.44067 ]\n",
            " [107.85572 ]\n",
            " [108.24064 ]\n",
            " [108.57453 ]\n",
            " [108.84557 ]\n",
            " [109.03718 ]\n",
            " [109.14771 ]\n",
            " [109.18301 ]\n",
            " [109.164734]\n",
            " [109.11989 ]\n",
            " [109.06955 ]\n",
            " [109.02163 ]\n",
            " [108.98327 ]\n",
            " [108.956276]\n",
            " [108.9395  ]\n",
            " [108.932655]\n",
            " [108.93198 ]\n",
            " [108.92988 ]\n",
            " [108.9166  ]\n",
            " [108.900856]\n",
            " [108.88956 ]\n",
            " [108.88491 ]\n",
            " [108.87822 ]\n",
            " [108.86362 ]\n",
            " [108.82819 ]\n",
            " [108.76024 ]\n",
            " [108.64798 ]\n",
            " [108.48954 ]\n",
            " [108.280815]\n",
            " [108.010445]\n",
            " [107.680176]\n",
            " [107.29906 ]\n",
            " [106.88394 ]\n",
            " [106.449585]\n",
            " [106.0031  ]\n",
            " [105.55916 ]\n",
            " [105.12542 ]\n",
            " [104.698296]\n",
            " [104.27617 ]\n",
            " [103.849724]\n",
            " [103.405464]\n",
            " [102.91952 ]\n",
            " [102.38216 ]\n",
            " [101.80233 ]\n",
            " [101.20003 ]\n",
            " [100.58256 ]\n",
            " [ 99.966415]\n",
            " [ 99.35686 ]\n",
            " [ 98.75583 ]\n",
            " [ 98.16809 ]\n",
            " [ 97.597046]\n",
            " [ 97.069534]\n",
            " [ 96.59706 ]\n",
            " [ 96.186066]\n",
            " [ 95.80833 ]\n",
            " [ 95.44486 ]\n",
            " [ 95.10174 ]\n",
            " [ 94.78103 ]\n",
            " [ 94.474335]\n",
            " [ 94.185165]\n",
            " [ 93.91878 ]\n",
            " [ 93.666084]\n",
            " [ 93.425095]\n",
            " [ 93.1962  ]\n",
            " [ 92.976555]\n",
            " [ 92.76186 ]\n",
            " [ 92.55195 ]\n",
            " [ 92.36033 ]\n",
            " [ 92.20394 ]\n",
            " [ 92.08293 ]\n",
            " [ 91.99329 ]\n",
            " [ 91.934746]\n",
            " [ 91.89518 ]\n",
            " [ 91.87142 ]\n",
            " [ 91.86471 ]\n",
            " [ 91.875595]\n",
            " [ 91.90196 ]\n",
            " [ 91.95956 ]\n",
            " [ 92.05834 ]\n",
            " [ 92.2043  ]\n",
            " [ 92.40362 ]\n",
            " [ 92.65019 ]\n",
            " [ 92.93017 ]\n",
            " [ 93.23103 ]\n",
            " [ 93.541725]\n",
            " [ 93.858215]\n",
            " [ 94.17734 ]\n",
            " [ 94.50484 ]\n",
            " [ 94.848816]\n",
            " [ 95.210655]\n",
            " [ 95.58806 ]\n",
            " [ 95.97568 ]\n",
            " [ 96.37079 ]\n",
            " [ 96.766205]\n",
            " [ 97.15249 ]\n",
            " [ 97.52    ]\n",
            " [ 97.87252 ]\n",
            " [ 98.22145 ]\n",
            " [ 98.570366]\n",
            " [ 98.92268 ]\n",
            " [ 99.283714]\n",
            " [ 99.64839 ]\n",
            " [100.01521 ]\n",
            " [100.371086]\n",
            " [100.70516 ]\n",
            " [101.01211 ]\n",
            " [101.29569 ]\n",
            " [101.56552 ]\n",
            " [101.82842 ]\n",
            " [102.077705]\n",
            " [102.296844]\n",
            " [102.47318 ]\n",
            " [102.601265]\n",
            " [102.67665 ]\n",
            " [102.697525]\n",
            " [102.66501 ]\n",
            " [102.58042 ]\n",
            " [102.420364]\n",
            " [102.159   ]\n",
            " [101.7836  ]\n",
            " [101.29596 ]\n",
            " [100.71523 ]\n",
            " [100.06097 ]\n",
            " [ 99.34907 ]\n",
            " [ 98.59482 ]\n",
            " [ 97.81523 ]\n",
            " [ 97.030235]\n",
            " [ 96.25349 ]\n",
            " [ 95.4863  ]\n",
            " [ 94.732605]\n",
            " [ 94.014694]\n",
            " [ 93.34828 ]\n",
            " [ 92.74753 ]\n",
            " [ 92.21914 ]\n",
            " [ 91.76936 ]\n",
            " [ 91.40526 ]\n",
            " [ 91.13458 ]\n",
            " [ 90.965904]\n",
            " [ 90.902   ]\n",
            " [ 90.93714 ]\n",
            " [ 91.057594]\n",
            " [ 91.24057 ]\n",
            " [ 91.46214 ]\n",
            " [ 91.70424 ]\n",
            " [ 91.95642 ]\n",
            " [ 92.21249 ]\n",
            " [ 92.46651 ]\n",
            " [ 92.71702 ]\n",
            " [ 92.95828 ]\n",
            " [ 93.1784  ]\n",
            " [ 93.37032 ]\n",
            " [ 93.52937 ]\n",
            " [ 93.656075]\n",
            " [ 93.7421  ]\n",
            " [ 93.78266 ]\n",
            " [ 93.78192 ]\n",
            " [ 93.74456 ]\n",
            " [ 93.67864 ]\n",
            " [ 93.57909 ]\n",
            " [ 93.437996]\n",
            " [ 93.26133 ]\n",
            " [ 93.06121 ]\n",
            " [ 92.8544  ]\n",
            " [ 92.65461 ]\n",
            " [ 92.466965]\n",
            " [ 92.2967  ]\n",
            " [ 92.149086]\n",
            " [ 92.03017 ]\n",
            " [ 91.94386 ]\n",
            " [ 91.8927  ]\n",
            " [ 91.87354 ]\n",
            " [ 91.89115 ]\n",
            " [ 91.94646 ]\n",
            " [ 92.041565]\n",
            " [ 92.17497 ]\n",
            " [ 92.34227 ]\n",
            " [ 92.53467 ]\n",
            " [ 92.73931 ]\n",
            " [ 92.94001 ]\n",
            " [ 93.12208 ]\n",
            " [ 93.30643 ]\n",
            " [ 93.5146  ]\n",
            " [ 93.756004]\n",
            " [ 94.040764]\n",
            " [ 94.36354 ]\n",
            " [ 94.72095 ]\n",
            " [ 95.10712 ]\n",
            " [ 95.52089 ]\n",
            " [ 95.96172 ]\n",
            " [ 96.426865]\n",
            " [ 96.90633 ]\n",
            " [ 97.3886  ]\n",
            " [ 97.864784]\n",
            " [ 98.332664]\n",
            " [ 98.78911 ]\n",
            " [ 99.22923 ]\n",
            " [ 99.647804]\n",
            " [100.0418  ]\n",
            " [100.40531 ]\n",
            " [100.73551 ]\n",
            " [101.02812 ]\n",
            " [101.27891 ]\n",
            " [101.484116]\n",
            " [101.642784]\n",
            " [101.753395]\n",
            " [101.81782 ]\n",
            " [101.84316 ]\n",
            " [101.8414  ]\n",
            " [101.822334]\n",
            " [101.79597 ]\n",
            " [101.75765 ]\n",
            " [101.69285 ]\n",
            " [101.60346 ]\n",
            " [101.50579 ]\n",
            " [101.42921 ]\n",
            " [101.40916 ]\n",
            " [101.46243 ]\n",
            " [101.58639 ]\n",
            " [101.77153 ]\n",
            " [102.00626 ]\n",
            " [102.282555]\n",
            " [102.58329 ]\n",
            " [102.89336 ]\n",
            " [103.20218 ]\n",
            " [103.505295]\n",
            " [103.79215 ]\n",
            " [104.05777 ]\n",
            " [104.2981  ]\n",
            " [104.51246 ]\n",
            " [104.70192 ]\n",
            " [104.87111 ]\n",
            " [105.02499 ]\n",
            " [105.17441 ]\n",
            " [105.328224]\n",
            " [105.49424 ]\n",
            " [105.6746  ]\n",
            " [105.87018 ]\n",
            " [106.07935 ]\n",
            " [106.29812 ]\n",
            " [106.5205  ]\n",
            " [106.740906]\n",
            " [106.95253 ]\n",
            " [107.154305]\n",
            " [107.34862 ]\n",
            " [107.52639 ]\n",
            " [107.67561 ]\n",
            " [107.78668 ]\n",
            " [107.855034]\n",
            " [107.87286 ]\n",
            " [107.83768 ]\n",
            " [107.745964]\n",
            " [107.595   ]\n",
            " [107.39394 ]\n",
            " [107.1578  ]\n",
            " [106.899445]\n",
            " [106.617485]\n",
            " [106.31399 ]\n",
            " [105.98401 ]\n",
            " [105.631195]\n",
            " [105.27519 ]\n",
            " [104.932686]\n",
            " [104.61494 ]\n",
            " [104.335625]\n",
            " [104.10365 ]\n",
            " [103.919525]\n",
            " [103.78272 ]\n",
            " [103.68975 ]\n",
            " [103.63493 ]\n",
            " [103.60822 ]\n",
            " [103.59657 ]\n",
            " [103.591805]\n",
            " [103.58593 ]\n",
            " [103.57719 ]\n",
            " [103.57009 ]\n",
            " [103.57265 ]\n",
            " [103.59724 ]\n",
            " [103.64806 ]\n",
            " [103.73218 ]\n",
            " [103.85247 ]\n",
            " [104.00916 ]\n",
            " [104.19964 ]\n",
            " [104.42098 ]\n",
            " [104.669464]\n",
            " [104.9396  ]\n",
            " [105.22169 ]\n",
            " [105.50722 ]\n",
            " [105.79237 ]\n",
            " [106.07168 ]]\n"
          ],
          "name": "stdout"
        }
      ]
    },
    {
      "cell_type": "code",
      "metadata": {
        "id": "KwmuhK0maAsu",
        "colab_type": "code",
        "colab": {
          "base_uri": "https://localhost:8080/",
          "height": 516
        },
        "outputId": "f7182677-a1ef-4039-edea-cce4184986a2"
      },
      "source": [
        "f = plt.figure(1)\n",
        "plt.plot(apple_stock_prices1[1401:])\n",
        "f.show()\n",
        "\n",
        "g = plt.figure(2)\n",
        "plt.plot(predicted)\n",
        "g.show()\n"
      ],
      "execution_count": 178,
      "outputs": [
        {
          "output_type": "display_data",
          "data": {
            "image/png": "[encoded data removed]",
            "text/plain": [
              "<Figure size 432x288 with 1 Axes>"
            ]
          },
          "metadata": {
            "tags": [],
            "needs_background": "light"
          }
        },
        {
          "output_type": "display_data",
          "data": {
            "image/png": "[encoded data removed]",
            "text/plain": [
              "<Figure size 432x288 with 1 Axes>"
            ]
          },
          "metadata": {
            "tags": [],
            "needs_background": "light"
          }
        }
      ]
    }
  ]
}